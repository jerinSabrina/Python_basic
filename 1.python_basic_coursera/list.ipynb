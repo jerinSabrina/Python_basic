{
 "cells": [
  {
   "cell_type": "code",
   "execution_count": 2,
   "metadata": {},
   "outputs": [
    {
     "name": "stdout",
     "output_type": "stream",
     "text": [
      "[1, [5, 6], 'red']\n"
     ]
    }
   ],
   "source": [
    "print ([1,[5,6],'red'])"
   ]
  },
  {
   "cell_type": "code",
   "execution_count": 11,
   "metadata": {},
   "outputs": [
    {
     "name": "stdout",
     "output_type": "stream",
     "text": [
      "['A', 'R', 'S']\n",
      "['A', 'R', 'Sazu']\n",
      "range(0, 3)\n",
      "range(0, 5)\n"
     ]
    }
   ],
   "source": [
    "x= [\"A\",\"R\", \"S\"]\n",
    "print(x)\n",
    "x[2] = \"Sazu\"\n",
    "print(x)\n",
    "print (range(len(x)))\n",
    "print (range(5))"
   ]
  },
  {
   "cell_type": "code",
   "execution_count": 12,
   "metadata": {},
   "outputs": [
    {
     "name": "stdout",
     "output_type": "stream",
     "text": [
      "['Book', 'red']\n"
     ]
    }
   ],
   "source": [
    "nl = list()\n",
    "nl.append(\"Book\")\n",
    "nl.append(\"red\")\n",
    "print(nl)"
   ]
  },
  {
   "cell_type": "code",
   "execution_count": 16,
   "metadata": {},
   "outputs": [
    {
     "name": "stdout",
     "output_type": "stream",
     "text": [
      "Enter value:  15\n",
      "Enter value:  5\n",
      "Enter value:  10\n",
      "Enter value:  done\n",
      "Average: 10.0\n",
      "[5.0, 10.0, 15.0]\n"
     ]
    }
   ],
   "source": [
    "nl = list()\n",
    "while True:\n",
    "    inp = input(\"Enter value:  \")\n",
    "    if inp == \"done\":\n",
    "        break\n",
    "    value = float(inp)\n",
    "    nl.append(value)\n",
    "avr = sum(nl)/len(nl)\n",
    "print(\"Average:\" , avr)\n",
    "\n",
    "nl.sort()\n",
    "print(nl)"
   ]
  },
  {
   "cell_type": "code",
   "execution_count": null,
   "metadata": {},
   "outputs": [],
   "source": []
  }
 ],
 "metadata": {
  "kernelspec": {
   "display_name": "Python 3",
   "language": "python",
   "name": "python3"
  },
  "language_info": {
   "codemirror_mode": {
    "name": "ipython",
    "version": 3
   },
   "file_extension": ".py",
   "mimetype": "text/x-python",
   "name": "python",
   "nbconvert_exporter": "python",
   "pygments_lexer": "ipython3",
   "version": "3.7.6"
  }
 },
 "nbformat": 4,
 "nbformat_minor": 4
}
