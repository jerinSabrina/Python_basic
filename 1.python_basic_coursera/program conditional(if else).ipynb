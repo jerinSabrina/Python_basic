{
 "cells": [
  {
   "cell_type": "code",
   "execution_count": 3,
   "metadata": {},
   "outputs": [
    {
     "name": "stdout",
     "output_type": "stream",
     "text": [
      "what is your nameApurba\n",
      "Hello Apurba\n"
     ]
    }
   ],
   "source": [
    "nam = input('what is your name')\n",
    "print(\"Hello\",nam)\n",
    "#type(nam)"
   ]
  },
  {
   "cell_type": "code",
   "execution_count": 4,
   "metadata": {},
   "outputs": [
    {
     "name": "stdout",
     "output_type": "stream",
     "text": [
      "Europe floor : 4\n",
      "Europe floor =  4\n",
      "USA floor =  5\n"
     ]
    }
   ],
   "source": [
    "epf= input('Europe floor : ')\n",
    "usf = int(epf)+1\n",
    "print('Europe floor = ',epf)\n",
    "print('USA floor = ',usf)"
   ]
  },
  {
   "cell_type": "code",
   "execution_count": 7,
   "metadata": {},
   "outputs": [
    {
     "name": "stdout",
     "output_type": "stream",
     "text": [
      "smaller\n"
     ]
    }
   ],
   "source": [
    "x = 4\n",
    "if x>10:\n",
    "    print('Bigger')\n",
    "if x<10:\n",
    "    print('smaller')"
   ]
  },
  {
   "cell_type": "code",
   "execution_count": 11,
   "metadata": {},
   "outputs": [
    {
     "name": "stdout",
     "output_type": "stream",
     "text": [
      "bigger than 2\n",
      "value is bigger\n",
      "done with 2\n",
      "0\n",
      "1\n",
      "1\n",
      "2\n",
      "2\n",
      "3\n",
      "big value\n",
      "3\n",
      "4\n",
      "big value\n",
      "4\n",
      "5\n",
      "big value\n",
      "alldone\n"
     ]
    }
   ],
   "source": [
    "x=5\n",
    "if x>2:\n",
    "    print(\"bigger than 2\")\n",
    "    print('value is bigger')\n",
    "print('done with 2')\n",
    "for i in range (5):\n",
    "    print(i)\n",
    "    i = i+1\n",
    "    print(i)\n",
    "    if i>2:\n",
    "        print(\"big value\")\n",
    "print('alldone')"
   ]
  },
  {
   "cell_type": "code",
   "execution_count": 14,
   "metadata": {},
   "outputs": [
    {
     "name": "stdout",
     "output_type": "stream",
     "text": [
      "hello\n",
      "all done -1\n"
     ]
    }
   ],
   "source": [
    "x='Bob'\n",
    "try:\n",
    "    print('hello')\n",
    "    istr=int(x)\n",
    "    print('there')\n",
    "except:\n",
    "    istr =-1\n",
    "print(\"all done\",istr)"
   ]
  },
  {
   "cell_type": "code",
   "execution_count": 18,
   "metadata": {},
   "outputs": [
    {
     "name": "stdout",
     "output_type": "stream",
     "text": [
      "123\n",
      "hello\n",
      "hello 123 124\n"
     ]
    }
   ],
   "source": [
    "z=123\n",
    "print(z)\n",
    "try:\n",
    "    print(\"hello\")\n",
    "    q=str(z)+1\n",
    "    print(q)\n",
    "except:\n",
    "    q=z+1\n",
    "print('hello',z,q)\n",
    "    \n"
   ]
  },
  {
   "cell_type": "code",
   "execution_count": 26,
   "metadata": {},
   "outputs": [
    {
     "name": "stdout",
     "output_type": "stream",
     "text": [
      "what is your score? = 2.6\n",
      "F\n"
     ]
    }
   ],
   "source": [
    "w=input('what is your score? = ')\n",
    "x=float(w)\n",
    "if x >=8.0:\n",
    "    print('A+')\n",
    "elif x >=7.0:\n",
    "    print('A')\n",
    "elif x>=6.0:\n",
    "    print('A-')\n",
    "elif x>=5.0:\n",
    "    print('B')\n",
    "elif x>=4.0:\n",
    "    print('c')\n",
    "elif x>=3.0:\n",
    "    print('D')\n",
    "else:\n",
    "    print('F')"
   ]
  },
  {
   "cell_type": "code",
   "execution_count": null,
   "metadata": {},
   "outputs": [],
   "source": [
    "def fruit(f):\n",
    "    if f == 'apple':\n",
    "        print(\"Daily eat \",f)\n",
    "    if f == 'Banana':\n",
    "        print(\"Do your breakfast with\",f)\n",
    "fruit('apple')"
   ]
  },
  {
   "cell_type": "code",
   "execution_count": 49,
   "metadata": {},
   "outputs": [
    {
     "name": "stdout",
     "output_type": "stream",
     "text": [
      "w\n"
     ]
    }
   ],
   "source": [
    "value = max('Hello world')\n",
    "print(value)"
   ]
  },
  {
   "cell_type": "code",
   "execution_count": null,
   "metadata": {},
   "outputs": [],
   "source": []
  },
  {
   "cell_type": "code",
   "execution_count": null,
   "metadata": {},
   "outputs": [],
   "source": []
  },
  {
   "cell_type": "code",
   "execution_count": null,
   "metadata": {},
   "outputs": [],
   "source": [
    "n= 5\n",
    "while n>0:\n",
    "    print(n)\n",
    "print(n)"
   ]
  },
  {
   "cell_type": "code",
   "execution_count": null,
   "metadata": {},
   "outputs": [],
   "source": [
    "print(x)"
   ]
  },
  {
   "cell_type": "code",
   "execution_count": null,
   "metadata": {},
   "outputs": [],
   "source": []
  },
  {
   "cell_type": "code",
   "execution_count": null,
   "metadata": {},
   "outputs": [],
   "source": []
  },
  {
   "cell_type": "code",
   "execution_count": null,
   "metadata": {},
   "outputs": [],
   "source": []
  }
 ],
 "metadata": {
  "kernelspec": {
   "display_name": "Python 3",
   "language": "python",
   "name": "python3"
  },
  "language_info": {
   "codemirror_mode": {
    "name": "ipython",
    "version": 3
   },
   "file_extension": ".py",
   "mimetype": "text/x-python",
   "name": "python",
   "nbconvert_exporter": "python",
   "pygments_lexer": "ipython3",
   "version": "3.7.6"
  }
 },
 "nbformat": 4,
 "nbformat_minor": 4
}
