{
 "cells": [
  {
   "cell_type": "code",
   "execution_count": 4,
   "metadata": {},
   "outputs": [
    {
     "name": "stdout",
     "output_type": "stream",
     "text": [
      "Enter a String: umbrella\n",
      "1\n"
     ]
    }
   ],
   "source": [
    "f=input('Enter a String: ')\n",
    "count = 0\n",
    "index = 0\n",
    "while index< len(f):\n",
    "    l = f[index]\n",
    "    if l =='a':\n",
    "        count = count+1\n",
    "    index =index+1\n",
    "print(count)"
   ]
  },
  {
   "cell_type": "code",
   "execution_count": 10,
   "metadata": {},
   "outputs": [
    {
     "name": "stdout",
     "output_type": "stream",
     "text": [
      "Enter a String: banana\n",
      "1\n"
     ]
    }
   ],
   "source": [
    "f=input('Enter a String: ')\n",
    "count = 0\n",
    "for index in f[0:3]:\n",
    "    \n",
    "    if index =='a':\n",
    "        count = count+1\n",
    "print(count)"
   ]
  },
  {
   "cell_type": "code",
   "execution_count": 12,
   "metadata": {},
   "outputs": [
    {
     "name": "stdout",
     "output_type": "stream",
     "text": [
      "b in B\n",
      "n BAIUST\n",
      "Job\n",
      "Job in BAIUST\n"
     ]
    }
   ],
   "source": [
    "inpt = 'Job in BAIUST'\n",
    "print (inpt[2:8])\n",
    "print(inpt[5:])\n",
    "print(inpt[:3])\n",
    "print(inpt[:])"
   ]
  },
  {
   "cell_type": "code",
   "execution_count": null,
   "metadata": {},
   "outputs": [],
   "source": []
  }
 ],
 "metadata": {
  "kernelspec": {
   "display_name": "Python 3",
   "language": "python",
   "name": "python3"
  },
  "language_info": {
   "codemirror_mode": {
    "name": "ipython",
    "version": 3
   },
   "file_extension": ".py",
   "mimetype": "text/x-python",
   "name": "python",
   "nbconvert_exporter": "python",
   "pygments_lexer": "ipython3",
   "version": "3.7.6"
  }
 },
 "nbformat": 4,
 "nbformat_minor": 4
}
