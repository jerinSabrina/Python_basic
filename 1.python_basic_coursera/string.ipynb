{
 "cells": [
  {
   "cell_type": "code",
   "execution_count": 6,
   "metadata": {},
   "outputs": [
    {
     "name": "stdout",
     "output_type": "stream",
     "text": [
      "12\n",
      "26\n",
      "baiust.edu.bd\n"
     ]
    }
   ],
   "source": [
    "data = \"From Sabrina@baiust.edu.bd Sat Jan 5 9:14:16 2020\"\n",
    "value = data.find('@')\n",
    "print(value)\n",
    "value1 = data.find(' ',value)\n",
    "print(value1)\n",
    "print(data[value+1:value1])"
   ]
  },
  {
   "cell_type": "code",
   "execution_count": 8,
   "metadata": {},
   "outputs": [
    {
     "name": "stdout",
     "output_type": "stream",
     "text": [
      "> eeeee\n",
      "eeeee\n",
      "> #\n",
      "> done\n",
      "Done!\n"
     ]
    }
   ],
   "source": [
    "while True:\n",
    "    line = input('> ')\n",
    "    if line[0] == '#':\n",
    "        continue\n",
    "    if line == 'done':\n",
    "        break\n",
    "    print(line)\n",
    "print('Done!')"
   ]
  },
  {
   "cell_type": "code",
   "execution_count": 14,
   "metadata": {},
   "outputs": [
    {
     "name": "stdout",
     "output_type": "stream",
     "text": [
      "18\n",
      "25\n",
      "0.8475\n"
     ]
    }
   ],
   "source": [
    "data = 'X-DSPAM-confidence:0.8475'\n",
    "ex = data.find(':')\n",
    "print(ex)\n",
    "v = len(data)\n",
    "print(v)\n",
    "val = data[ex+1:v]\n",
    "print(float(val))"
   ]
  },
  {
   "cell_type": "code",
   "execution_count": 21,
   "metadata": {},
   "outputs": [
    {
     "name": "stdout",
     "output_type": "stream",
     "text": [
      "        Hello World      \n",
      "        Hello Jerin      \n",
      "Hello World\n"
     ]
    }
   ],
   "source": [
    "data = \"        Hello World      \"\n",
    "print(data)\n",
    "print(data.replace(\"World\",\"Jerin\"))\n",
    "print(data.strip(' '))"
   ]
  },
  {
   "cell_type": "code",
   "execution_count": null,
   "metadata": {},
   "outputs": [],
   "source": []
  }
 ],
 "metadata": {
  "kernelspec": {
   "display_name": "Python 3",
   "language": "python",
   "name": "python3"
  },
  "language_info": {
   "codemirror_mode": {
    "name": "ipython",
    "version": 3
   },
   "file_extension": ".py",
   "mimetype": "text/x-python",
   "name": "python",
   "nbconvert_exporter": "python",
   "pygments_lexer": "ipython3",
   "version": "3.7.6"
  }
 },
 "nbformat": 4,
 "nbformat_minor": 4
}
