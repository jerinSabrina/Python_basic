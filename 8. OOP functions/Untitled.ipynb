{
 "cells": [
  {
   "cell_type": "markdown",
   "metadata": {},
   "source": [
    "# Exception Handling"
   ]
  },
  {
   "cell_type": "code",
   "execution_count": 1,
   "metadata": {},
   "outputs": [
    {
     "ename": "NameError",
     "evalue": "name 'b' is not defined",
     "output_type": "error",
     "traceback": [
      "\u001b[1;31m---------------------------------------------------------------------------\u001b[0m",
      "\u001b[1;31mNameError\u001b[0m                                 Traceback (most recent call last)",
      "\u001b[1;32m<ipython-input-1-488068fe1e94>\u001b[0m in \u001b[0;36m<module>\u001b[1;34m\u001b[0m\n\u001b[1;32m----> 1\u001b[1;33m \u001b[0ma\u001b[0m\u001b[1;33m=\u001b[0m\u001b[0mb\u001b[0m\u001b[1;33m\u001b[0m\u001b[1;33m\u001b[0m\u001b[0m\n\u001b[0m",
      "\u001b[1;31mNameError\u001b[0m: name 'b' is not defined"
     ]
    }
   ],
   "source": [
    "a=b"
   ]
  },
  {
   "cell_type": "code",
   "execution_count": null,
   "metadata": {},
   "outputs": [],
   "source": [
    "try:\n",
    "    a=b\n",
    "except:\n",
    "    print(\"problem is try block\")"
   ]
  },
  {
   "cell_type": "code",
   "execution_count": null,
   "metadata": {},
   "outputs": [],
   "source": [
    "try:\n",
    "    a=b\n",
    "except Exception as ex:\n",
    "    print(ex)"
   ]
  },
  {
   "cell_type": "code",
   "execution_count": null,
   "metadata": {},
   "outputs": [],
   "source": [
    "m = 4\n",
    "n= 's'\n",
    "o = m+n"
   ]
  },
  {
   "cell_type": "code",
   "execution_count": 2,
   "metadata": {},
   "outputs": [
    {
     "name": "stdout",
     "output_type": "stream",
     "text": [
      "unsupported operand type(s) for +: 'int' and 'str'\n"
     ]
    }
   ],
   "source": [
    "#Handling Specific Error\n",
    "try:\n",
    "    #a=b\n",
    "    m = 4\n",
    "    n= 's'\n",
    "    o = m+n\n",
    "except NameError:\n",
    "    print (\"This variable is not defind correctly \")\n",
    "except Exception as ex:\n",
    "    print(ex)"
   ]
  },
  {
   "cell_type": "code",
   "execution_count": 3,
   "metadata": {},
   "outputs": [
    {
     "name": "stdout",
     "output_type": "stream",
     "text": [
      "please correct the variable as same data type \n"
     ]
    }
   ],
   "source": [
    "#Handling Specific Error\n",
    "try:\n",
    "    #a=b\n",
    "    m = 4\n",
    "    n= 's'\n",
    "    o = m+n\n",
    "except NameError:\n",
    "    print (\"This variable is not defind correctly \")\n",
    "except TypeError:\n",
    "    print (\"please correct the variable as same data type \")\n",
    "except Exception as ex:\n",
    "    print(ex)"
   ]
  },
  {
   "cell_type": "code",
   "execution_count": 4,
   "metadata": {},
   "outputs": [
    {
     "name": "stdout",
     "output_type": "stream",
     "text": [
      "Enter the value of a : 10\n",
      " Enter the value of b : 1\n",
      "11\n",
      "10.0\n"
     ]
    }
   ],
   "source": [
    "try:\n",
    "    m = int (input(\"Enter the value of a : \"))\n",
    "    n= int (input(\" Enter the value of b : \"))\n",
    "    o = m+n\n",
    "    p = m/n\n",
    "    print(o)\n",
    "    print(p)\n",
    "except NameError:\n",
    "    print (\"This variable is not defind correctly \")\n",
    "except TypeError:\n",
    "    print (\"please correct the variable as same data type \")\n",
    "except Exception as ex:\n",
    "    print(ex)"
   ]
  },
  {
   "cell_type": "code",
   "execution_count": 5,
   "metadata": {},
   "outputs": [
    {
     "ename": "ZeroDivisionError",
     "evalue": "division by zero",
     "output_type": "error",
     "traceback": [
      "\u001b[1;31m---------------------------------------------------------------------------\u001b[0m",
      "\u001b[1;31mZeroDivisionError\u001b[0m                         Traceback (most recent call last)",
      "\u001b[1;32m<ipython-input-5-0a18586444b8>\u001b[0m in \u001b[0;36m<module>\u001b[1;34m\u001b[0m\n\u001b[0;32m      1\u001b[0m \u001b[0ma\u001b[0m \u001b[1;33m=\u001b[0m \u001b[1;36m5\u001b[0m\u001b[1;33m\u001b[0m\u001b[1;33m\u001b[0m\u001b[0m\n\u001b[0;32m      2\u001b[0m \u001b[0mb\u001b[0m\u001b[1;33m=\u001b[0m \u001b[1;36m0\u001b[0m\u001b[1;33m\u001b[0m\u001b[1;33m\u001b[0m\u001b[0m\n\u001b[1;32m----> 3\u001b[1;33m \u001b[0mc\u001b[0m \u001b[1;33m=\u001b[0m\u001b[0ma\u001b[0m\u001b[1;33m/\u001b[0m\u001b[0mb\u001b[0m\u001b[1;33m\u001b[0m\u001b[1;33m\u001b[0m\u001b[0m\n\u001b[0m",
      "\u001b[1;31mZeroDivisionError\u001b[0m: division by zero"
     ]
    }
   ],
   "source": [
    "a = 5\n",
    "b= 0\n",
    "c =a/b"
   ]
  },
  {
   "cell_type": "code",
   "execution_count": null,
   "metadata": {},
   "outputs": [],
   "source": [
    "#try-else block\n",
    "try:\n",
    "    m = int (input(\"Enter the value of a : \"))\n",
    "    n= int (input(\" Enter the value of b : \"))\n",
    "    o = m+n\n",
    "    p = m/n\n",
    "    \n",
    "except NameError:\n",
    "    print (\"This variable is not defind correctly \")\n",
    "except TypeError:\n",
    "    print (\"please correct the variable as same data type \")\n",
    "except ZeroDivisionError :\n",
    "    print (\"Provider the Divisor number greater than 0\")\n",
    "except Exception as ex:\n",
    "    print(ex)\n",
    "\n",
    "else :\n",
    "    print (\"The summation is : \",o)\n",
    "    print(p)"
   ]
  },
  {
   "cell_type": "code",
   "execution_count": null,
   "metadata": {},
   "outputs": [],
   "source": [
    "#try-else- finally block\n",
    "try:\n",
    "    m = int (input(\"Enter the value of a : \"))\n",
    "    n= int (input(\" Enter the value of b : \"))\n",
    "    o = m+n\n",
    "    p = m/n\n",
    "    \n",
    "except NameError:\n",
    "    print (\"This variable is not defind correctly \")\n",
    "except TypeError:\n",
    "    print (\"please correct the variable as same data type \")\n",
    "except ZeroDivisionError :\n",
    "    print (\"Provider the Divisor number greater than 0\")\n",
    "except Exception as ex:\n",
    "    print(ex)\n",
    "\n",
    "else :\n",
    "    print('the division is :', p)\n",
    "\n",
    "finally:\n",
    "        print (\"The summation is : \",o)\n",
    "        print(\"The Exucution is done\")\n",
    "         "
   ]
  },
  {
   "cell_type": "markdown",
   "metadata": {},
   "source": [
    "# Custom Exception"
   ]
  },
  {
   "cell_type": "code",
   "execution_count": null,
   "metadata": {},
   "outputs": [],
   "source": [
    "class Error(Exception):\n",
    "    pass\n",
    "class dobException(Error):\n",
    "    pass"
   ]
  },
  {
   "cell_type": "code",
   "execution_count": null,
   "metadata": {},
   "outputs": [],
   "source": [
    "year = int (input(\"Enter your birth year: \"))\n",
    "age = 2021 - year\n",
    "try:\n",
    "    if age <=30 and age >=20:\n",
    "        print(\"Valid age.You can procced further process\")\n",
    "    else:\n",
    "        raise dobException\n",
    "except dobException:\n",
    "    print(\"Not Valid Age.You Cannot Procced\")"
   ]
  },
  {
   "cell_type": "code",
   "execution_count": null,
   "metadata": {},
   "outputs": [],
   "source": []
  },
  {
   "cell_type": "code",
   "execution_count": null,
   "metadata": {},
   "outputs": [],
   "source": []
  }
 ],
 "metadata": {
  "kernelspec": {
   "display_name": "Python 3",
   "language": "python",
   "name": "python3"
  },
  "language_info": {
   "codemirror_mode": {
    "name": "ipython",
    "version": 3
   },
   "file_extension": ".py",
   "mimetype": "text/x-python",
   "name": "python",
   "nbconvert_exporter": "python",
   "pygments_lexer": "ipython3",
   "version": "3.7.6"
  }
 },
 "nbformat": 4,
 "nbformat_minor": 4
}
